{
  "nbformat": 4,
  "nbformat_minor": 0,
  "metadata": {
    "colab": {
      "provenance": [],
      "authorship_tag": "ABX9TyMIgJkHBcpq5L7j7PVxzG5M",
      "include_colab_link": true
    },
    "kernelspec": {
      "name": "python3",
      "display_name": "Python 3"
    },
    "language_info": {
      "name": "python"
    }
  },
  "cells": [
    {
      "cell_type": "markdown",
      "metadata": {
        "id": "view-in-github",
        "colab_type": "text"
      },
      "source": [
        "<a href=\"https://colab.research.google.com/github/themrsami/MovieLand_With_OMDBAPI_React.js/blob/master/Remotely%20Download%20Any%20File%20To%20Your%20own%20Drive%20With%20Google%20Drive%20Link.ipynb\" target=\"_parent\"><img src=\"https://colab.research.google.com/assets/colab-badge.svg\" alt=\"Open In Colab\"/></a>"
      ]
    },
    {
      "cell_type": "code",
      "execution_count": null,
      "metadata": {
        "colab": {
          "base_uri": "https://localhost:8080/"
        },
        "id": "NjEuXwofT6mO",
        "outputId": "35b284dc-1820-4d02-a159-14dfceeeab12"
      },
      "outputs": [
        {
          "output_type": "stream",
          "name": "stdout",
          "text": [
            "Mounted at /content/drive\n"
          ]
        }
      ],
      "source": [
        "from google.colab import drive\n",
        "drive.mount('/content/drive')\n"
      ]
    },
    {
      "cell_type": "code",
      "source": [
        "import gdown\n",
        "import concurrent.futures\n",
        "\n",
        "def create_download_link(view_link):\n",
        "    # Split the view link by '/'\n",
        "    split_link = view_link.split('/')\n",
        "    # The ID of the file is always at the 5th position after splitting\n",
        "    file_id = split_link[5]\n",
        "    # Create the download link using the file ID\n",
        "    download_link = f\"https://drive.google.com/u/0/uc?id={file_id}&export=download\"\n",
        "    return download_link\n",
        "\n",
        "def download_file(url):\n",
        "    output = '/content/drive/My Drive/gdrivefiles/'\n",
        "    gdown.download(url, output, quiet=True)\n",
        "\n",
        "# String of view links separated by commas\n",
        "view_links_str = 'https://drive.google.com/file/d/1JIeDf-U-Ipn3qp6BOKQQT6nIhQIUnqou/view,https://drive.google.com/file/d/1WXSmhpfQgGtbv-RUXxfAXduWxmIq4nk6/view'\n",
        "\n",
        "# Convert the string into a list of view links\n",
        "view_links = view_links_str.split(',')\n",
        "\n",
        "# Convert view links to download links\n",
        "download_links = [create_download_link(link) for link in view_links]\n",
        "\n",
        "# Use a ThreadPoolExecutor to download the files in parallel\n",
        "with concurrent.futures.ThreadPoolExecutor() as executor:\n",
        "    executor.map(download_file, download_links)\n"
      ],
      "metadata": {
        "id": "gSFxJasflqgq"
      },
      "execution_count": null,
      "outputs": []
    }
  ]
}